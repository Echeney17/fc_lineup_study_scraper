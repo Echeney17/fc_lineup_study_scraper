{
 "cells": [
  {
   "cell_type": "code",
   "execution_count": 5,
   "id": "smart-surge",
   "metadata": {},
   "outputs": [],
   "source": [
    "from selenium import webdriver\n",
    "from selenium.webdriver.support.ui import Select\n",
    "from selenium.webdriver.common.by import By\n",
    "from selenium.webdriver.support.ui import WebDriverWait \n",
    "from selenium.webdriver.support import expected_conditions as EC\n",
    "import time\n",
    "from time import sleep\n",
    "import pandas as pd\n",
    "import csv"
   ]
  },
  {
   "cell_type": "code",
   "execution_count": 85,
   "id": "outside-chemistry",
   "metadata": {},
   "outputs": [],
   "source": [
    "#Importing the path\n",
    "path = (r\"C:/Users/Owner/Documents/UFC/chromedriver.exe\")\n",
    "driver = webdriver.Chrome(path)\n",
    "driver.get(\"https://www.fantasycruncher.com/login?referer=/\")"
   ]
  },
  {
   "cell_type": "code",
   "execution_count": 86,
   "id": "informative-patrol",
   "metadata": {},
   "outputs": [],
   "source": [
    "#Login Details\n",
    "username = WebDriverWait(driver, 10).until(EC.element_to_be_clickable((By.CSS_SELECTOR,\"input[name='user_email']\")))\n",
    "password = WebDriverWait(driver, 10).until(EC.element_to_be_clickable((By.CSS_SELECTOR,\"input[name='user_password']\")))\n",
    "\n",
    "username.clear()\n",
    "password.clear()\n",
    "\n",
    "username.send_keys(\"\") #Enter email\n",
    "password.send_keys(\"\") #Enter password\n",
    "\n",
    "log_in = driver.find_element_by_id('submit')\n",
    "log_in.click()"
   ]
  },
  {
   "cell_type": "code",
   "execution_count": 87,
   "id": "9b60c9f1",
   "metadata": {},
   "outputs": [],
   "source": [
    "#Going on home screen and navigating to the UFC lineup study page\n",
    "mma_tab = driver.find_element_by_xpath(\"/html/body/div[2]/header/ul/li[6]/a\")\n",
    "mma_tab.click()\n",
    "\n",
    "lineup_study = driver.find_element_by_xpath(\"/html/body/div[2]/header/ul/li[6]/div/div[2]/div[1]/div/a[1]\")\n",
    "lineup_study.click()"
   ]
  },
  {
   "cell_type": "code",
   "execution_count": 89,
   "id": "e46a5ca9",
   "metadata": {},
   "outputs": [],
   "source": [
    "#Go to analyze contest page\n",
    "analyze_contest = driver.find_element_by_xpath(\"//*[@id='tournaments-list-grid']/div/div[2]/div[1]/div[3]/div[2]/div/div/div[1]/div[1]/span/i\")\n",
    "analyze_contest.click()"
   ]
  },
  {
   "cell_type": "code",
   "execution_count": 90,
   "id": "1f5fa2ba",
   "metadata": {},
   "outputs": [],
   "source": [
    "#Go to all lineups page\n",
    "all_lineups = driver.find_element_by_xpath(\"//*[@id='contest_788285628']/div[2]/nav/ul/li[3]/a\")\n",
    "all_lineups.click()"
   ]
  },
  {
   "cell_type": "code",
   "execution_count": null,
   "id": "2dd30fd5",
   "metadata": {},
   "outputs": [],
   "source": [
    "xpath_list"
   ]
  }
 ],
 "metadata": {
  "kernelspec": {
   "display_name": "Python 3",
   "language": "python",
   "name": "python3"
  },
  "language_info": {
   "codemirror_mode": {
    "name": "ipython",
    "version": 3
   },
   "file_extension": ".py",
   "mimetype": "text/x-python",
   "name": "python",
   "nbconvert_exporter": "python",
   "pygments_lexer": "ipython3",
   "version": "3.8.8"
  }
 },
 "nbformat": 4,
 "nbformat_minor": 5
}
